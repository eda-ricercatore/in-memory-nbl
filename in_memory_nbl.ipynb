{
  "nbformat": 4,
  "nbformat_minor": 0,
  "metadata": {
    "colab": {
      "name": "in-memory-nbl.ipynb",
      "provenance": [],
      "collapsed_sections": [],
      "authorship_tag": "ABX9TyPkq1YK5DkHKDT9jGpMrV08",
      "include_colab_link": true
    },
    "kernelspec": {
      "name": "python3",
      "display_name": "Python 3"
    }
  },
  "cells": [
    {
      "cell_type": "markdown",
      "metadata": {
        "id": "view-in-github",
        "colab_type": "text"
      },
      "source": [
        "<a href=\"https://colab.research.google.com/github/eda-ricercatore/in-memory-nbl/blob/master/in_memory_nbl.ipynb\" target=\"_parent\"><img src=\"https://colab.research.google.com/assets/colab-badge.svg\" alt=\"Open In Colab\"/></a>"
      ]
    },
    {
      "cell_type": "markdown",
      "metadata": {
        "id": "Qumz_VSIs-Kp",
        "colab_type": "text"
      },
      "source": [
        "# In-Memory Computing with Noise-Based Logic\n",
        "\n",
        "\n",
        "Zhiyang Ong\n",
        "Texas A&M University\n",
        "\n",
        "Abstract:\n",
        "    To be completed.\n",
        "\n"
      ]
    },
    {
      "cell_type": "markdown",
      "metadata": {
        "id": "Lw9JPKKxdIB2",
        "colab_type": "text"
      },
      "source": [
        ""
      ]
    },
    {
      "cell_type": "markdown",
      "metadata": {
        "id": "leX7hsB-t66Q",
        "colab_type": "text"
      },
      "source": [
        "# Introduction\n",
        "\n",
        "Due to the impending end of Moore's Law \\cite{Theis2017,Williams2017,Waldrop2016}, the memory wall problem \\cite{Wulf1995}, ILP wall and power wall problems \\cite[\\S1.11, pp. 60]{Hennessy2019}, the end \\cite{Esmaeilzadeh2012,Esmaeilzadeh2011} of Dennard scaling \\cite{Dennard1974}, and associated problems such as dark silicon \\cite{Esmaeilzadeh2012,Esmaeilzadeh2011} (or utilization wall \\cite{}) and their recent mitigation techniques \\cite{Rahmani2017}, researchers are seeking non-von Neumann computing paradigms to drive the high-tech industry. Some of the computing approaches include \\cite{Williams2017}: memory-driven computing, including in-memory computing \\cite{???}, near-memory computing \\cite{???}, and processor-in-memory \\cite{???}; neuromorphic processors (or VLSI neural networks) \\cite{???}; using a fabric of photonic interconnects; hardware accelerators or co-processors (e.g., GPU \\cite{???}, TPU \\cite{???}, DSP \\cite{???}); and quantum computing \\cite{Tandon2017}.\n",
        "\n",
        "While different approaches for noise-based logic have been proposed as a form of non-von Neumann computing, implementations of VLSI systems using noise-based logic are non-existent.\n",
        "\n",
        "This paper/report aims to: describe using noise-based logic for in-memory computing, and demonstrate how in-memory noise-based logic can be used for computational statistics and machine learning.\n",
        "\n",
        "An outline for the rest of this paper/report is described as follows: an introduction to noise-based logic and in-memory computing is provided; next, we describe how to perform cross-correlation and auto-correlation functions in a memory subsystem (such as a static random-access memory, SRAM, and dynamic random-access memory, DRAM); lastly, we discuss circuit simulation results for our in-memory noise-based logic subsystem using a 7-nm predictive process design kit (PDK) \\cite{Clark2019}."
      ]
    },
    {
      "cell_type": "markdown",
      "metadata": {
        "id": "Li0WQRn-dTy1",
        "colab_type": "text"
      },
      "source": [
        "# Background Information\n",
        "\n",
        "In this section, we describe background information for our work that covers noise-based logic (NBL) and in-memory computing.\n"
      ]
    },
    {
      "cell_type": "markdown",
      "metadata": {
        "id": "U8FzJsYpd-St",
        "colab_type": "text"
      },
      "source": [
        "## Noise-Based Logic\n",
        "\n",
        "Instead of representing information with electric current (and voltages) in traditional electrical and electronic circuits, we use a random process to represent information about a particular numerical value or object (such as an image, a video, or some text).\n",
        "\n",
        "The cross-correlation function \\cite{Chen2007c,Downey2015,Downey2011,Montgomery2014,Bertsekas2008,Grimmett2001,Ross2004???} is defined as follows"
      ]
    },
    {
      "cell_type": "code",
      "metadata": {
        "id": "tB0WK5-Js59r",
        "colab_type": "code",
        "colab": {}
      },
      "source": [
        "# Preliminaries to set up the computing environment in Google Colab.\n",
        "from google.colab import drive\n",
        "drive.mount('/content/drive')\n",
        "%ls -al /content/drive/My\\ Drive/Colab\\ Notebooks/research/noise-based-logic\n",
        "%cd /content/drive/My\\ Drive/Colab\\ Notebooks/research/noise-based-logic\n",
        "%ls -al\n",
        "\n",
        "#\tImport Custom Python Packages and Modules\n",
        "from random_process_models.pseudorandom_number_generator import prng\n",
        "from random_process_models.random_process_generator import rand_signal_generator\n"
      ],
      "execution_count": 0,
      "outputs": []
    }
  ]
}