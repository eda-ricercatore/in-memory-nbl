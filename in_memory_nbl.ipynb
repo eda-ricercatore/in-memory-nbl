{
  "nbformat": 4,
  "nbformat_minor": 0,
  "metadata": {
    "colab": {
      "name": "in-memory-nbl.ipynb",
      "provenance": [],
      "collapsed_sections": [],
      "authorship_tag": "ABX9TyPuM0hn5B21sIloHXpMUlS5",
      "include_colab_link": true
    },
    "kernelspec": {
      "name": "python3",
      "display_name": "Python 3"
    }
  },
  "cells": [
    {
      "cell_type": "markdown",
      "metadata": {
        "id": "view-in-github",
        "colab_type": "text"
      },
      "source": [
        "<a href=\"https://colab.research.google.com/github/eda-ricercatore/in-memory-nbl/blob/master/in_memory_nbl.ipynb\" target=\"_parent\"><img src=\"https://colab.research.google.com/assets/colab-badge.svg\" alt=\"Open In Colab\"/></a>"
      ]
    },
    {
      "cell_type": "markdown",
      "metadata": {
        "id": "Qumz_VSIs-Kp",
        "colab_type": "text"
      },
      "source": [
        "# In-Memory Computing with Noise-Based Logic\n",
        "\n",
        "\n",
        "Zhiyang Ong\n",
        "Texas A&M University\n",
        "\n",
        "Abstract:\n",
        "    To be completed.\n",
        "\n"
      ]
    },
    {
      "cell_type": "markdown",
      "metadata": {
        "id": "leX7hsB-t66Q",
        "colab_type": "text"
      },
      "source": [
        "# Introduction\n",
        "\n",
        "Due to the impending end of Moore's Law \\cite{Theis2017,Williams2017,Waldrop2016}, the memory wall problem \\cite{Wulf1995}, ILP wall and power wall problems \\cite[\\S1.11, pp. 60]{Hennessy2019}, the end \\cite{Esmaeilzadeh2012,Esmaeilzadeh2011} of Dennard scaling \\cite{Dennard1974}, and associated problems such as dark silicon \\cite{Esmaeilzadeh2012,Esmaeilzadeh2011} (or utilization wall \\cite{}) and their recent mitigation techniques \\cite{Rahmani2017}, researchers are seeking non-von Neumann computing paradigms to drive the high-tech industry. Some of the computing approaches include \\cite{Williams2017}: memory-driven computing, including in-memory computing \\cite{???}, near-memory computing \\cite{???}, and processor-in-memory \\cite{???}; neuromorphic processors (or VLSI neural networks) \\cite{???}; using a fabric of photonic interconnects; hardware accelerators or co-processors (e.g., GPU \\cite{???}, TPU \\cite{???}, DSP \\cite{???}); and quantum computing \\cite{Tandon2017}.\n",
        "\n",
        "While different approaches for noise-based logic have been proposed as a form of non-von Neumann computing, implementations of VLSI systems using noise-based logic are non-existent.\n",
        "\n",
        "This paper/report aims to: describe using noise-based logic for in-memory computing, and demonstrate how in-memory noise-based logic can be used for computational statistics and machine learning.\n",
        "\n",
        "An outline for the rest of this paper/report is described as follows: an introduction to noise-based logic and in-memory computing is provided; next, we describe how to perform cross-correlation and auto-correlation functions in a memory subsystem (such as a static random-access memory, SRAM, and dynamic random-access memory, DRAM); lastly, we discuss circuit simulation results for our in-memory noise-based logic subsystem using a 7-nm predictive process design kit (PDK) \\cite{Clark2019}."
      ]
    },
    {
      "cell_type": "markdown",
      "metadata": {
        "id": "Li0WQRn-dTy1",
        "colab_type": "text"
      },
      "source": [
        "# Background Information\n",
        "\n",
        "In this section, we describe background information for our work that covers noise-based logic (NBL) and in-memory computing.\n"
      ]
    },
    {
      "cell_type": "markdown",
      "metadata": {
        "id": "U8FzJsYpd-St",
        "colab_type": "text"
      },
      "source": [
        "## Noise-Based Logic\n",
        "\n",
        "Instead of representing information with electric current (and voltages) in traditional electrical and electronic circuits, we use a random process to represent information about a particular numerical value or object (such as an image, a video, or some text).\n",
        "\n",
        "The cross-correlation function \\cite{Chen2007c,Downey2015,Downey2011,Montgomery2014,Bertsekas2008,Grimmett2001,Ross2004???} is defined as follows"
      ]
    },
    {
      "cell_type": "code",
      "metadata": {
        "id": "tB0WK5-Js59r",
        "colab_type": "code",
        "outputId": "44a5806f-d65e-40c6-fb5e-fb8f3880998d",
        "colab": {
          "base_uri": "https://localhost:8080/",
          "height": 506
        }
      },
      "source": [
        "# Preliminaries to set up the computing environment in Google Colab.\n",
        "from google.colab import drive\n",
        "drive.mount('/content/drive')\n",
        "%ls -al /content/drive/My\\ Drive/Colab\\ Notebooks/research/noise-based-logic\n",
        "%cd /content/drive/My\\ Drive/Colab\\ Notebooks/research/noise-based-logic\n",
        "%ls -al\n",
        "%ls -al random_process_models\n",
        "\n",
        "# Import Custom Python Packages and Modules\n",
        "# Package and module to calculate the factorial of a given number.\n",
        "from utilities.timing_measurements.get_factorial import calculate_factorial\n",
        "#\tModule to measure the current time.\n",
        "# Package and module to perform date and time operations.\n",
        "from utilities.timing_measurements.performance_measurement_no_ns import execution_time_measurement\n",
        "#random_process_models\n",
        "\n",
        "from random_process_models.pseudorandom_number_generator import prng\n",
        "from random_process_models.random_process_generator import rand_signal_generator\n",
        "\"\"\"\n",
        "from randomprocessmodels.pseudorandom_number_generator import prng\n",
        "from randomprocessmodels.random_process_generator import rand_signal_generator\n",
        "\"\"\"\n",
        "# Number of discrete values for random signals/\"processes\".\n",
        "k=16\n",
        "# Generate a random signal of the type random telegraph wave (RTW).\n",
        "#x_rtw_1 = rand_signal_generator.gen_rand_signal_uniform_distributn(rand_signal_generator.rtw_signal,k)\n",
        "x_rtw_1 = rand_signal_generator.gen_rand_signal_uniform_distributn(rand_signal_generator.rtw_signal,16)\n",
        "print(\"x_rtw_1 is:\",x_rtw_1,\"=\")\n",
        "# Generate another RTW.\n",
        "x_rtw_2 = rand_signal_generator.gen_rand_signal_uniform_distributn(rand_signal_generator.rtw_signal,k)\n",
        "# Find the cross-correlation between these two RTWs."
      ],
      "execution_count": 0,
      "outputs": [
        {
          "output_type": "stream",
          "text": [
            "Go to this URL in a browser: https://accounts.google.com/o/oauth2/auth?client_id=947318989803-6bn6qk8qdgf4n4g3pfee6491hc0brc4i.apps.googleusercontent.com&redirect_uri=urn%3aietf%3awg%3aoauth%3a2.0%3aoob&response_type=code&scope=email%20https%3a%2f%2fwww.googleapis.com%2fauth%2fdocs.test%20https%3a%2f%2fwww.googleapis.com%2fauth%2fdrive%20https%3a%2f%2fwww.googleapis.com%2fauth%2fdrive.photos.readonly%20https%3a%2f%2fwww.googleapis.com%2fauth%2fpeopleapi.readonly\n",
            "\n",
            "Enter your authorization code:\n",
            "··········\n",
            "Mounted at /content/drive\n",
            "total 32\n",
            "-rw------- 1 root root 9294 Jan 10 17:20 incremental_test.py\n",
            "-rw------- 1 root root 9928 Jan 11 00:45 in-memory-nbl.ipynb\n",
            "drwx------ 2 root root 4096 Jan 10 17:20 \u001b[0m\u001b[01;34mrandom_process_models\u001b[0m/\n",
            "drwx------ 2 root root 4096 Jan 10 17:20 \u001b[01;34mstatistics\u001b[0m/\n",
            "drwx------ 2 root root 4096 Jan 10 17:20 \u001b[01;34mutilities\u001b[0m/\n",
            "/content/drive/My Drive/Colab Notebooks/research/noise-based-logic\n",
            "total 32\n",
            "-rw------- 1 root root 9294 Jan 10 17:20 incremental_test.py\n",
            "-rw------- 1 root root 9928 Jan 11 00:45 in-memory-nbl.ipynb\n",
            "drwx------ 2 root root 4096 Jan 10 17:20 \u001b[0m\u001b[01;34mrandom_process_models\u001b[0m/\n",
            "drwx------ 2 root root 4096 Jan 10 17:20 \u001b[01;34mstatistics\u001b[0m/\n",
            "drwx------ 2 root root 4096 Jan 10 17:20 \u001b[01;34mutilities\u001b[0m/\n",
            "total 27\n",
            "-rw------- 1 root root    0 Jan 10 17:20 __init__.py\n",
            "-rw------- 1 root root 5688 Jan 10 17:20 pseudorandom_number_generator.py\n",
            "-rw------- 1 root root 4962 Jan 10 17:20 pseudorandom_number_generator_tester.py\n",
            "drwx------ 2 root root 4096 Jan 10 17:20 \u001b[0m\u001b[01;34m__pycache__\u001b[0m/\n",
            "-rw------- 1 root root    0 Jan 10 17:20 random_number_generator.py\n",
            "-rw------- 1 root root 5864 Jan 10 17:20 random_process_generator.py\n",
            "-rw------- 1 root root 5606 Jan 10 17:20 random_process_generator_tester.py\n",
            "x_rtw_1 is: [1, 1, -1, -1, -1, 1, 1, 1, -1, -1, -1, -1, -1, 1, 1, 1] =\n"
          ],
          "name": "stdout"
        }
      ]
    }
  ]
}