{
  "nbformat": 4,
  "nbformat_minor": 0,
  "metadata": {
    "colab": {
      "name": "in-memory-nbl.ipynb",
      "provenance": [],
      "collapsed_sections": [],
      "authorship_tag": "ABX9TyM2xfK66LbIqCsNois2s1pF",
      "include_colab_link": true
    },
    "kernelspec": {
      "name": "python3",
      "display_name": "Python 3"
    }
  },
  "cells": [
    {
      "cell_type": "markdown",
      "metadata": {
        "id": "view-in-github",
        "colab_type": "text"
      },
      "source": [
        "<a href=\"https://colab.research.google.com/github/eda-ricercatore/in-memory-nbl/blob/master/in_memory_nbl.ipynb\" target=\"_parent\"><img src=\"https://colab.research.google.com/assets/colab-badge.svg\" alt=\"Open In Colab\"/></a>"
      ]
    },
    {
      "cell_type": "markdown",
      "metadata": {
        "id": "Qumz_VSIs-Kp",
        "colab_type": "text"
      },
      "source": [
        "# In-Memory Computing with Noise-Based Logic\n",
        "\n",
        "\n",
        "Zhiyang Ong\n",
        "Texas A&M University\n",
        "\n",
        "Abstract:\n",
        "    To be completed.\n",
        "\n"
      ]
    },
    {
      "cell_type": "code",
      "metadata": {
        "id": "tB0WK5-Js59r",
        "colab_type": "code",
        "colab": {}
      },
      "source": [
        ""
      ],
      "execution_count": 0,
      "outputs": []
    },
    {
      "cell_type": "markdown",
      "metadata": {
        "id": "leX7hsB-t66Q",
        "colab_type": "text"
      },
      "source": [
        "# Introduction\n",
        "\n",
        "Due to the impending end of Moore's Law \\cite{???}, the memory wall problem \\cite{Wulf1995}, the end \\cite{Esmaeilzadeh2012,Esmaeilzadeh2011} of Dennard scaling \\cite{Dennard1974}, and associated problems such as dark silicon \\cite{Esmaeilzadeh2012,Esmaeilzadeh2011} and their recent mitigation techniques \\cite{Rahmani2017}, researchers are seeking non-von Neumann computing paradigms to drive the high-tech industry \\cite{}.\n"
      ]
    }
  ]
}